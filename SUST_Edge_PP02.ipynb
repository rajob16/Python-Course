{
  "nbformat": 4,
  "nbformat_minor": 0,
  "metadata": {
    "colab": {
      "provenance": [],
      "authorship_tag": "ABX9TyPU4w1uj1iXhvTrtjtLKdeR",
      "include_colab_link": true
    },
    "kernelspec": {
      "name": "python3",
      "display_name": "Python 3"
    },
    "language_info": {
      "name": "python"
    }
  },
  "cells": [
    {
      "cell_type": "markdown",
      "metadata": {
        "id": "view-in-github",
        "colab_type": "text"
      },
      "source": [
        "<a href=\"https://colab.research.google.com/github/rajob16/Python-Course/blob/main/SUST_Edge_PP02.ipynb\" target=\"_parent\"><img src=\"https://colab.research.google.com/assets/colab-badge.svg\" alt=\"Open In Colab\"/></a>"
      ]
    },
    {
      "cell_type": "markdown",
      "source": [
        "# Introduction to Python\n",
        "\n",
        "> ### Rajob Tarek Hasan"
      ],
      "metadata": {
        "id": "jIV703n978Jt"
      }
    },
    {
      "cell_type": "markdown",
      "source": [
        "## Generators\n",
        "\n",
        "### What are Generators?\n",
        "Generators are functions that return an iterator and allow you to iterate through a sequence of values lazily (on demand) using the `yield` keyword.\n",
        "\n",
        "Key Benefits:\n",
        "1. Memory Efficient: They don’t store all elements in memory.\n",
        "2. Lazy Evaluation: Values are produced when needed.\n",
        "3. Simplifies Iterators: Easier to write compared to building a custom iterator class."
      ],
      "metadata": {
        "id": "dFFWLJYc8X2M"
      }
    },
    {
      "cell_type": "code",
      "source": [
        "nums = [1,2,3,4]\n",
        "\n",
        "# for i in nums:\n",
        "#   print(i)\n",
        "\n",
        "def nums_generator():\n",
        "    for i in nums:\n",
        "        yield i\n",
        "\n",
        "gen = nums_generator()\n",
        "\n",
        "print(next(gen))\n",
        "print(next(gen))\n",
        "print(next(gen))\n",
        "print(next(gen))"
      ],
      "metadata": {
        "id": "AJ8KV_yCySD1"
      },
      "execution_count": null,
      "outputs": []
    },
    {
      "cell_type": "code",
      "source": [],
      "metadata": {
        "id": "PnEFhvcUy5z9"
      },
      "execution_count": null,
      "outputs": []
    },
    {
      "cell_type": "code",
      "source": [],
      "metadata": {
        "id": "hHLF26Fxy8WU"
      },
      "execution_count": null,
      "outputs": []
    },
    {
      "cell_type": "code",
      "source": [
        "# A basic generator example\n",
        "def number_generator():\n",
        "    for i in range(1, 4):\n",
        "        yield i\n",
        "\n",
        "# Create the generator\n",
        "gen = number_generator()\n",
        "\n",
        "# Get values from the generator\n",
        "print(next(gen))  # 1\n",
        "print(next(gen))  # 2\n",
        "print(next(gen))  # 3"
      ],
      "metadata": {
        "id": "dAmDg5e78Qk2"
      },
      "execution_count": null,
      "outputs": []
    },
    {
      "cell_type": "markdown",
      "source": [
        "### Exercise\n",
        "Create a generator function that returns even numbers from 1 to 10."
      ],
      "metadata": {
        "id": "tqE43A7l8oLl"
      }
    },
    {
      "cell_type": "code",
      "source": [
        "def even_number_generator():\n",
        "    # Your code here\n",
        "    for i in range(1, 10):\n",
        "        if i % 2 == 0:\n",
        "            yield i\n",
        "\n",
        "gen = even_number_generator()\n",
        "print(next(gen))  # 2\n",
        "print(next(gen))  # 4"
      ],
      "metadata": {
        "id": "IAngS9Cj8mj4"
      },
      "execution_count": null,
      "outputs": []
    },
    {
      "cell_type": "markdown",
      "source": [
        "### Generator Expressions\n",
        "Generator expressions provide a concise way to create a generator without the need for a separate function. They look like list comprehensions but use parentheses `()` instead of square brackets `[]`.\n",
        "\n",
        "They are memory-efficient because they generate items on demand."
      ],
      "metadata": {
        "id": "v2NRpcn080RU"
      }
    },
    {
      "cell_type": "code",
      "source": [
        "# Generator expression for squares of numbers\n",
        "squares = (x**2 for x in range(1, 6))\n",
        "print(next(squares))  # 1\n",
        "print(next(squares))  # 4"
      ],
      "metadata": {
        "id": "_pEaK2n48tvo"
      },
      "execution_count": null,
      "outputs": []
    },
    {
      "cell_type": "markdown",
      "source": [
        "### Exercise\n",
        "Write a generator expression to create cubes of numbers from 1 to 5."
      ],
      "metadata": {
        "id": "Duyc9ybV9YA9"
      }
    },
    {
      "cell_type": "code",
      "source": [
        "# Your code here\n",
        "cubes = (x**3 for x in range(1, 100000000000))\n",
        "print(next(cubes))"
      ],
      "metadata": {
        "id": "IhHBJo2D9Xoj"
      },
      "execution_count": null,
      "outputs": []
    },
    {
      "cell_type": "markdown",
      "source": [
        "## Closures\n",
        "\n",
        "### What are Closures?\n",
        "A closure is a function that \"remembers\" the environment in which it was created. If a function is defined inside another function and uses variables from the enclosing scope, it becomes a closure.\n",
        "\n",
        "Closures are useful for maintaining state across function calls."
      ],
      "metadata": {
        "id": "AXNx7UT29d6R"
      }
    },
    {
      "cell_type": "code",
      "source": [
        "def outer_function(x):\n",
        "    def inner_function(y):\n",
        "        return x + y\n",
        "    return inner_function\n",
        "\n",
        "closure = outer_function(10)\n",
        "print(closure(5))  # 15"
      ],
      "metadata": {
        "id": "V8H0Aigr9QS2"
      },
      "execution_count": null,
      "outputs": []
    },
    {
      "cell_type": "code",
      "source": [
        "def power_outer(x):\n",
        "  def power_inner(y):\n",
        "    return y**x\n",
        "  return power_inner\n",
        "\n",
        "square = power_outer(2)\n",
        "print(square(10))\n",
        "cube = power_outer(3)\n",
        "print(cube(10))"
      ],
      "metadata": {
        "id": "ULumwedY3SSk"
      },
      "execution_count": null,
      "outputs": []
    },
    {
      "cell_type": "markdown",
      "source": [
        "### Exercise\n",
        "Write a closure that keeps track of how many times it has been called."
      ],
      "metadata": {
        "id": "5YVFJR_O91lu"
      }
    },
    {
      "cell_type": "code",
      "source": [
        "def counter():\n",
        "    c = 0\n",
        "    def make_count():\n",
        "      nonlocal c\n",
        "      c += 1\n",
        "      return c\n",
        "    return make_count\n",
        "\n",
        "count = counter()\n",
        "print(count())  # 1\n",
        "print(count())  # 2\n",
        "\n",
        "count2 = counter()\n",
        "print(count2())\n",
        "print(count())"
      ],
      "metadata": {
        "id": "zV-zCxho95AM"
      },
      "execution_count": null,
      "outputs": []
    },
    {
      "cell_type": "markdown",
      "source": [
        "## Decorators\n",
        "\n",
        "### What are Decorators?\n",
        "Decorators are functions that modify the behavior of other functions. They are applied to functions using the `@decorator_name` syntax.\n",
        "\n",
        "Use Cases:\n",
        "- Logging\n",
        "- Timing functions\n",
        "- Authorization checks"
      ],
      "metadata": {
        "id": "SpW-1mUW9986"
      }
    },
    {
      "cell_type": "code",
      "source": [
        "def greet_decorator(func):\n",
        "    def wrapper():\n",
        "        print(\"Hello!\")\n",
        "        func()\n",
        "        print(\"Goodbye!\")\n",
        "    return wrapper\n",
        "\n",
        "\n",
        "@greet_decorator\n",
        "def ordinary():\n",
        "  print(\"Something ordinary\")\n",
        "\n",
        "\n",
        "@greet_decorator\n",
        "def ordinary2():\n",
        "  print(\"Something ordinary2\")\n",
        "\n",
        "ordinary()\n",
        "ordinary2()"
      ],
      "metadata": {
        "id": "ekOOz_Ec8OF1"
      },
      "execution_count": null,
      "outputs": []
    },
    {
      "cell_type": "code",
      "source": [
        "def greet_decorator(func):\n",
        "    def wrapper():\n",
        "        print(\"Hello!\")\n",
        "        func()\n",
        "        print(\"Goodbye!\")\n",
        "    return wrapper\n",
        "\n",
        "@greet_decorator\n",
        "def my_function():\n",
        "    print(\"I am learning decorators!\")\n",
        "\n",
        "my_function()"
      ],
      "metadata": {
        "id": "b8B9vF7C974M"
      },
      "execution_count": null,
      "outputs": []
    },
    {
      "cell_type": "markdown",
      "source": [
        "### Exercise\n",
        "Write a decorator that times how long a function takes to execute."
      ],
      "metadata": {
        "id": "6eTQ1cM5-R4l"
      }
    },
    {
      "cell_type": "code",
      "source": [
        "from time import time"
      ],
      "metadata": {
        "id": "YVDom1tv-cEc"
      },
      "execution_count": null,
      "outputs": []
    },
    {
      "cell_type": "code",
      "source": [
        "# Your code here\n",
        "def timer_decorator(func):\n",
        "  def wrapper():\n",
        "    start_time = time()\n",
        "    ret_val = func()\n",
        "    end_time = time()\n",
        "    print(\"Elapsed Time: \", end_time - start_time)\n",
        "    return ret_val\n",
        "\n",
        "  return wrapper"
      ],
      "metadata": {
        "id": "LvvMlTgS-WB_"
      },
      "execution_count": null,
      "outputs": []
    },
    {
      "cell_type": "code",
      "source": [
        "@greet_decorator\n",
        "@timer_decorator\n",
        "def my_function():\n",
        "    print(\"I am learning decorators!\")\n",
        "\n",
        "my_function()"
      ],
      "metadata": {
        "id": "iCGQMqoIAVHu"
      },
      "execution_count": null,
      "outputs": []
    },
    {
      "cell_type": "code",
      "source": [
        "@timer_decorator\n",
        "def loop10000():\n",
        "  sum = 0\n",
        "  for i in range(1000):\n",
        "    sum += 10000\n",
        "  return sum\n",
        "\n",
        "print(loop10000())"
      ],
      "metadata": {
        "id": "vLI8vzQH_RMm"
      },
      "execution_count": null,
      "outputs": []
    },
    {
      "cell_type": "markdown",
      "source": [
        "## File Handling\n",
        "\n",
        "### Basic File Operations\n",
        "File handling in Python allows you to open, read, write, and manage files."
      ],
      "metadata": {
        "id": "_uBHJvum-0Bp"
      }
    },
    {
      "cell_type": "code",
      "source": [
        "# Writing to a file\n",
        "with open(\"example.txt\", \"w\") as file:\n",
        "    file.write(\"Hello, File Handling!\")\n",
        "\n",
        "# Reading from a file\n",
        "with open(\"example.txt\", \"r\") as file:\n",
        "    content = file.read()\n",
        "    print(content)  # Output: Hello, File Handling!"
      ],
      "metadata": {
        "id": "6Op5-6gE-zsI"
      },
      "execution_count": null,
      "outputs": []
    },
    {
      "cell_type": "markdown",
      "source": [
        "### Renaming and Deleting Files\n",
        "\n",
        "The `os` module provides methods for renaming and deleting files."
      ],
      "metadata": {
        "id": "wtQkQT5m-zdx"
      }
    },
    {
      "cell_type": "code",
      "source": [
        "import os"
      ],
      "metadata": {
        "id": "3FhCqHJlLPPU"
      },
      "execution_count": null,
      "outputs": []
    },
    {
      "cell_type": "code",
      "source": [
        "import os\n",
        "\n",
        "# Renaming a file\n",
        "os.rename(\"example.txt\", \"renamed_example.txt\")\n",
        "\n",
        "# Deleting a file\n",
        "os.remove(\"renamed_example.txt\")"
      ],
      "metadata": {
        "id": "aFu1vTi4_TmF"
      },
      "execution_count": null,
      "outputs": []
    },
    {
      "cell_type": "markdown",
      "source": [
        "### Accessing Directories\n",
        "\n",
        "You can create, delete, and navigate directories using the `os` module."
      ],
      "metadata": {
        "id": "XApHszoa_W6H"
      }
    },
    {
      "cell_type": "code",
      "source": [
        "import os\n",
        "\n",
        "# Create a new directory\n",
        "os.mkdir(\"new_directory\")\n",
        "\n",
        "# Change the current working directory\n",
        "os.chdir(\"new_directory\")\n",
        "print(\"Current Directory:\", os.getcwd())\n",
        "\n",
        "# Delete the directory\n",
        "os.chdir(\"..\")\n",
        "os.rmdir(\"new_directory\")"
      ],
      "metadata": {
        "id": "MeNr0gnu_b95"
      },
      "execution_count": null,
      "outputs": []
    },
    {
      "cell_type": "markdown",
      "source": [
        "### File Methods\n",
        "\n",
        "Python files support various methods like `read()`, `write()`, and `seek()` for file operations."
      ],
      "metadata": {
        "id": "VMqG3vpY_hId"
      }
    },
    {
      "cell_type": "code",
      "source": [
        "with open(\"example.txt\", \"w+\") as file:\n",
        "    file.write(\"Hello, World!\")\n",
        "    file.seek(2)\n",
        "    print(file.read())  # Output: Hello, World!"
      ],
      "metadata": {
        "id": "apTJ0JuX_jaN"
      },
      "execution_count": null,
      "outputs": []
    },
    {
      "cell_type": "markdown",
      "source": [
        "### OS File/Directory Methods\n",
        "\n",
        "The `os` module also provides advanced methods for file and directory handling."
      ],
      "metadata": {
        "id": "Cfz8TF6m_pu7"
      }
    },
    {
      "cell_type": "code",
      "source": [
        "os.mkdir(\"folder1\")\n",
        "with open(\"folder1/tex1.txt\", \"w\") as file:\n",
        "  file.write(\"Test 1 2 3\")"
      ],
      "metadata": {
        "id": "KG7YDQ8LN9qd"
      },
      "execution_count": null,
      "outputs": []
    },
    {
      "cell_type": "code",
      "source": [
        "os.getcwd()"
      ],
      "metadata": {
        "id": "RiUFyZCSPCy8"
      },
      "execution_count": null,
      "outputs": []
    },
    {
      "cell_type": "code",
      "source": [
        "os.path.getsize(\"example.txt\")"
      ],
      "metadata": {
        "id": "-BKambSbO84L"
      },
      "execution_count": null,
      "outputs": []
    },
    {
      "cell_type": "code",
      "source": [
        "import os\n",
        "\n",
        "# List all files in the current directory\n",
        "print(os.listdir(\".\"))\n",
        "\n",
        "# Check if a file exists\n",
        "print(os.path.exists(\"example.txt\"))\n",
        "\n",
        "# Get file size\n",
        "print(os.path.getsize(\"example.txt\"))"
      ],
      "metadata": {
        "id": "nnx_EMTb_wZJ"
      },
      "execution_count": null,
      "outputs": []
    },
    {
      "cell_type": "code",
      "source": [
        "def student_generator():\n",
        "  with open(\"students.txt\", \"r\") as student_file:\n",
        "    for line in student_file:\n",
        "      yield(line.strip().split(\",\"))\n",
        "\n",
        "gen = student_generator()\n",
        "print(next(gen))\n",
        "print(next(gen))\n",
        "print(next(gen))"
      ],
      "metadata": {
        "id": "9I350yGTPoMk"
      },
      "execution_count": null,
      "outputs": []
    },
    {
      "cell_type": "markdown",
      "source": [
        "### Fun Exercise\n",
        "\n",
        "Write a program that:\n",
        "1. Creates a directory called \"test_dir\".\n",
        "2. Creates a file inside it called \"test_file.txt\" and writes \"Hello, Python!\" into it.\n",
        "3. Reads the content back and prints it.\n",
        "4. Deletes the file and directory."
      ],
      "metadata": {
        "id": "u1eIOuKE_3tq"
      }
    },
    {
      "cell_type": "code",
      "source": [
        "# Your code here"
      ],
      "metadata": {
        "id": "Mty22eTw_6v_"
      },
      "execution_count": null,
      "outputs": []
    },
    {
      "cell_type": "markdown",
      "source": [
        "## Summary\n",
        "\n",
        "- **Generators**: Efficient, lazy iterators for sequences.\n",
        "- **Closures**: Functions that remember their creation context.\n",
        "- **Decorators**: Functions to modify behavior of other functions.\n",
        "- **File Handling**: Read, write, and manage files and directories."
      ],
      "metadata": {
        "id": "-00grbLKAJ1b"
      }
    },
    {
      "cell_type": "markdown",
      "source": [
        "## Numpy\n",
        "\n",
        "### What is NumPy?\n",
        "- NumPy (Numerical Python) is a library used for numerical and matrix operations.\n",
        "- It provides high-performance multidimensional arrays.\n",
        "- Key Features:\n",
        "  - Supports vectorized operations (faster than loops).\n",
        "  - Ideal for mathematical and scientific computing.\n"
      ],
      "metadata": {
        "id": "9nHIeMjIisaM"
      }
    },
    {
      "cell_type": "markdown",
      "source": [
        "### Creating Arrays"
      ],
      "metadata": {
        "id": "FBBz83Z9i3qo"
      }
    },
    {
      "cell_type": "code",
      "source": [
        "import numpy as np\n",
        "\n",
        "# Creating a 1D array\n",
        "arr1 = np.array([1, 2, 3])\n",
        "print(\"1D Array:\", arr1)\n",
        "\n",
        "# Creating a 2D array\n",
        "arr2 = np.array([[1, 2, 3], [4, 5, 6]])\n",
        "print(\"2D Array:\\n\", arr2)"
      ],
      "metadata": {
        "colab": {
          "base_uri": "https://localhost:8080/"
        },
        "id": "5c4NsXa2isAK",
        "outputId": "ba21a2d6-395a-409f-aa44-51bb3bba8366"
      },
      "execution_count": null,
      "outputs": [
        {
          "output_type": "stream",
          "name": "stdout",
          "text": [
            "1D Array: [1 2 3]\n",
            "2D Array:\n",
            " [[1 2 3]\n",
            " [4 5 6]]\n"
          ]
        }
      ]
    },
    {
      "cell_type": "markdown",
      "source": [
        "### ndarray\n",
        "The `ndarray` is the core data structure of NumPy. It represents a multidimensional, homogeneous array of fixed-size items.\n",
        "\n",
        "Key Properties:\n",
        "1. `ndim`: Number of dimensions.\n",
        "2. `shape`: Shape (size of each dimension).\n",
        "3. `dtype`: Data type of the array elements."
      ],
      "metadata": {
        "id": "4If7xsZ1vuQC"
      }
    },
    {
      "cell_type": "code",
      "source": [
        "# Creating an ndarray\n",
        "arr = np.array([[[1,2], [2,3]], [[3,4], [4,5]]], dtype=\"float64\")\n",
        "print(\"Array:\\n\", arr)\n",
        "\n",
        "# Properties of ndarray\n",
        "print(\"Number of Dimensions:\", arr.ndim)\n",
        "print(\"Shape of Array:\", arr.shape)\n",
        "print(\"Data Type:\", arr.dtype)\n"
      ],
      "metadata": {
        "id": "Cb5T6Z5tvwsT",
        "colab": {
          "base_uri": "https://localhost:8080/"
        },
        "outputId": "e3582acd-40d8-4bc4-bae5-cf2b2888c5a3"
      },
      "execution_count": null,
      "outputs": [
        {
          "output_type": "stream",
          "name": "stdout",
          "text": [
            "Array:\n",
            " [[[1. 2.]\n",
            "  [2. 3.]]\n",
            "\n",
            " [[3. 4.]\n",
            "  [4. 5.]]]\n",
            "Number of Dimensions: 3\n",
            "Shape of Array: (2, 2, 2)\n",
            "Data Type: float64\n"
          ]
        }
      ]
    },
    {
      "cell_type": "markdown",
      "source": [
        "### Data Type Objects (`dtype`)\n",
        "The `dtype` object specifies the type of data stored in an array (e.g., integer, float, etc.).\n",
        "\n",
        "Key Features:\n",
        "1. Allows custom data types.\n",
        "2. Supports advanced types like complex numbers and fixed-length strings."
      ],
      "metadata": {
        "id": "_8_w9Dd-v4_-"
      }
    },
    {
      "cell_type": "code",
      "source": [
        "# Array with default integer dtype\n",
        "arr = np.array([1, 2, 3])\n",
        "print(\"Default dtype:\", arr.dtype)\n",
        "\n",
        "# Array with custom dtype\n",
        "arr_float = np.array([1, 2, 3], dtype=\"float64\")\n",
        "print(\"Custom dtype:\", arr_float.dtype)\n",
        "\n",
        "# Complex dtype\n",
        "arr_complex = np.array([1 + 2j, 3 + 4j])\n",
        "print(\"Complex dtype:\", arr_complex.dtype)"
      ],
      "metadata": {
        "id": "pZgnpT0Xv4sJ",
        "colab": {
          "base_uri": "https://localhost:8080/"
        },
        "outputId": "08ad49a8-db33-4e3a-b369-c9148aeca1e0"
      },
      "execution_count": null,
      "outputs": [
        {
          "output_type": "stream",
          "name": "stdout",
          "text": [
            "Default dtype: int64\n",
            "Custom dtype: float64\n",
            "Complex dtype: complex128\n"
          ]
        }
      ]
    },
    {
      "cell_type": "markdown",
      "source": [
        "### Array Operations"
      ],
      "metadata": {
        "id": "5EMBJrFKi5Ul"
      }
    },
    {
      "cell_type": "code",
      "source": [
        "arr = np.array([1, 2, 3, 4])\n",
        "arr2 = np.array([5, 6, 7, 8])\n",
        "\n",
        "# Scaler operations\n",
        "print(\"Array + 10:\", arr + 10)\n",
        "print(\"Array * 2:\", arr * 2)\n",
        "\n",
        "# Mathematical operations\n",
        "print(\"Sum:\", arr.sum())\n",
        "print(\"Mean:\", arr.mean())\n",
        "print(\"Max:\", arr.max())\n",
        "\n",
        "# Element-wise operations\n",
        "print(\"Addition:\", arr + arr2)\n",
        "print(\"Multiplication:\", arr * arr2)"
      ],
      "metadata": {
        "id": "qvzE1zTuiynh",
        "colab": {
          "base_uri": "https://localhost:8080/"
        },
        "outputId": "879972a6-0c98-4c29-a4f8-1eb80139ab74"
      },
      "execution_count": null,
      "outputs": [
        {
          "output_type": "stream",
          "name": "stdout",
          "text": [
            "Array + 10: [11 12 13 14]\n",
            "Array * 2: [2 4 6 8]\n",
            "Sum: 10\n",
            "Mean: 2.5\n",
            "Max: 4\n",
            "Addition: [ 6  8 10 12]\n",
            "Multiplication: [ 5 12 21 32]\n"
          ]
        }
      ]
    },
    {
      "cell_type": "markdown",
      "source": [
        "### Array Slicing"
      ],
      "metadata": {
        "id": "VTarqgBGjC3p"
      }
    },
    {
      "cell_type": "code",
      "source": [
        "arr = np.array([10, 20, 30, 40, 50])\n",
        "print(\"Original Array:\", arr)\n",
        "\n",
        "# Accessing elements\n",
        "print(\"First Element:\", arr[0])\n",
        "print(\"Last Element:\", arr[-1])\n",
        "\n",
        "# Slicing\n",
        "print(\"First 3 Elements:\", arr[1:3])\n",
        "print(\"Last 2 Elements:\", arr[-2:])"
      ],
      "metadata": {
        "id": "cMgsmXKxi99q",
        "colab": {
          "base_uri": "https://localhost:8080/"
        },
        "outputId": "e9772088-9e65-4b5a-ac5f-79aa38b2fd75"
      },
      "execution_count": null,
      "outputs": [
        {
          "output_type": "stream",
          "name": "stdout",
          "text": [
            "Original Array: [10 20 30 40 50]\n",
            "First Element: 10\n",
            "Last Element: 50\n",
            "First 3 Elements: [20 30]\n",
            "Last 2 Elements: [40 50]\n"
          ]
        }
      ]
    },
    {
      "cell_type": "markdown",
      "source": [
        "### Advanced Indexing"
      ],
      "metadata": {
        "id": "BH4vl747wKC-"
      }
    },
    {
      "cell_type": "code",
      "source": [
        "arr = np.array([[10, 20],\n",
        "                [30, 40],\n",
        "                [50, 60]])\n",
        "\n",
        "print(arr.ndim)\n",
        "print(arr.shape)\n",
        "\n",
        "print(\"Specific Elements: \", arr[-1])\n",
        "print(\"Boolean Masking:\", arr[arr % 20 == 0])"
      ],
      "metadata": {
        "id": "E3xQDqYxwNBw",
        "colab": {
          "base_uri": "https://localhost:8080/"
        },
        "outputId": "45cf71d0-df45-44a6-d5dc-5ae53a0e92ad"
      },
      "execution_count": null,
      "outputs": [
        {
          "output_type": "stream",
          "name": "stdout",
          "text": [
            "2\n",
            "(3, 2)\n",
            "Specific Elements:  [50 60]\n",
            "Boolean Masking: [20 40 60]\n"
          ]
        }
      ]
    },
    {
      "cell_type": "markdown",
      "source": [
        "### Exercise\n",
        "1. Create a NumPy array of numbers from 1 to 10.\n",
        "2. Multiply every element by 3.\n",
        "3. Find the mean and maximum of the array."
      ],
      "metadata": {
        "id": "5UCSHf8ejKEB"
      }
    },
    {
      "cell_type": "code",
      "source": [
        "nums = np.arange(1, 11)\n",
        "\n",
        "mult_nums = nums * 3\n",
        "\n",
        "print(mult_nums.mean())\n",
        "print(mult_nums.max())"
      ],
      "metadata": {
        "id": "9LGLEne7jfNf",
        "colab": {
          "base_uri": "https://localhost:8080/"
        },
        "outputId": "328697b0-0eca-45fb-c435-ac4bc08cee87"
      },
      "execution_count": null,
      "outputs": [
        {
          "output_type": "stream",
          "name": "stdout",
          "text": [
            "16.5\n",
            "30\n"
          ]
        }
      ]
    },
    {
      "cell_type": "markdown",
      "source": [
        "### Iterating Over Arrays\n",
        "You can iterate over an ndarray using Python loops. For multidimensional arrays:\n",
        "1. Iterate row by row.\n",
        "2. Use `nditer` for element-wise iteration."
      ],
      "metadata": {
        "id": "cZP2NWpiw0ep"
      }
    },
    {
      "cell_type": "code",
      "source": [
        "arr = np.array([[1, 2, 3], [4, 5, 6]])\n",
        "\n",
        "# Row-wise iteration\n",
        "for row in arr:\n",
        "    print(\"Row:\", row)\n",
        "\n",
        "# Element-wise iteration\n",
        "for element in np.nditer(arr):\n",
        "    print(\"Element:\", element)"
      ],
      "metadata": {
        "id": "nhEmrQb2w0PA"
      },
      "execution_count": null,
      "outputs": []
    },
    {
      "cell_type": "markdown",
      "source": [
        "### Linear Algebra\n",
        "NumPy provides linear algebra functions like dot products, matrix multiplication, and determinants."
      ],
      "metadata": {
        "id": "5_G1fN8axXWT"
      }
    },
    {
      "cell_type": "code",
      "source": [
        "arr1 = np.array([[1, 2], [3, 4]], dtype=\"float64\")\n",
        "arr2 = np.array([[5, 6], [7, 8]], dtype=\"float64\")\n",
        "\n",
        "print(\"Arr 1\\n\",arr1)\n",
        "print(\"Arr 2\\n\",arr2)\n",
        "\n",
        "print(\"Dot\\n\",np.dot(arr1, arr2))\n",
        "\n",
        "print(\"Transpose\\n\",arr1.T)\n",
        "\n",
        "round(np.linalg.det(arr1), 3)"
      ],
      "metadata": {
        "colab": {
          "base_uri": "https://localhost:8080/"
        },
        "id": "fqy4aNIJstm7",
        "outputId": "1509b714-3764-40be-e2d2-a529a75bcc90"
      },
      "execution_count": null,
      "outputs": [
        {
          "output_type": "stream",
          "name": "stdout",
          "text": [
            "Arr 1\n",
            " [[1. 2.]\n",
            " [3. 4.]]\n",
            "Arr 2\n",
            " [[5. 6.]\n",
            " [7. 8.]]\n",
            "Dot\n",
            " [[19. 22.]\n",
            " [43. 50.]]\n",
            "Transpose\n",
            " [[1. 3.]\n",
            " [2. 4.]]\n"
          ]
        },
        {
          "output_type": "execute_result",
          "data": {
            "text/plain": [
              "-2.0"
            ]
          },
          "metadata": {},
          "execution_count": 40
        }
      ]
    },
    {
      "cell_type": "code",
      "source": [
        "# Dot product\n",
        "arr1 = np.array([[1, 2], [3, 4]])\n",
        "arr2 = np.array([[5, 6], [7, 8]])\n",
        "print(\"Dot Product:\\n\", np.dot(arr1, arr2))\n",
        "\n",
        "# Transpose of a matrix\n",
        "print(\"Transpose:\\n\", arr1.T)\n",
        "\n",
        "# Determinant\n",
        "print(\"Determinant:\", np.linalg.det(arr1))"
      ],
      "metadata": {
        "id": "sSO4EwnYxZGo"
      },
      "execution_count": null,
      "outputs": []
    },
    {
      "cell_type": "markdown",
      "source": [
        "### Sorting, Searching, and Counting\n",
        "NumPy provides functions to sort arrays, search for values, and count elements."
      ],
      "metadata": {
        "id": "N3WKKUEqxgjk"
      }
    },
    {
      "cell_type": "code",
      "source": [
        "arr = np.array([3, 1, 4, 1, 5, 9])\n",
        "\n",
        "# Sorting\n",
        "print(\"Sorted Array:\", np.sort(arr))\n",
        "\n",
        "# Searching\n",
        "print(\"Index of 1:\", np.where(arr == 1))\n",
        "\n",
        "# Counting\n",
        "print(\"Count of 1s:\", np.count_nonzero(arr == 1))"
      ],
      "metadata": {
        "colab": {
          "base_uri": "https://localhost:8080/"
        },
        "id": "B112ZFpxxgT9",
        "outputId": "7e770620-aa3b-46b4-eb51-e20b9ef578aa"
      },
      "execution_count": null,
      "outputs": [
        {
          "output_type": "stream",
          "name": "stdout",
          "text": [
            "Sorted Array: [1 1 3 4 5 9]\n",
            "Index of 4: (array([1, 3]),)\n",
            "Count of 1s: 2\n"
          ]
        }
      ]
    },
    {
      "cell_type": "markdown",
      "source": [
        "### Exercise\n",
        "1. Create a 2D NumPy array of random integers between 1 and 50.\n",
        "2. Perform the following:\n",
        "   - Find the mean of all elements.\n",
        "   - Transpose the array.\n",
        "   - Sort the array along rows.\n",
        "   - Extract all elements greater than 25.\n",
        "3. Perform matrix multiplication between the original and transposed array.\n"
      ],
      "metadata": {
        "id": "QX00FvH-xoHk"
      }
    },
    {
      "cell_type": "code",
      "source": [
        "rand_arr = np.random.randint(1, 51, size=(3,3))\n",
        "\n",
        "print(\"Random Array\\n\", rand_arr)\n",
        "print(\"Mean\", rand_arr.mean())\n",
        "print(\"Transpose\\n\", rand_arr.T)\n",
        "print(\"Sorted along Rows\\n\", np.sort(rand_arr, axis=1))\n",
        "print(\"Elements greater than 25\\n\", rand_arr[rand_arr > 25])\n",
        "print(np.dot(rand_arr, rand_arr.T))"
      ],
      "metadata": {
        "colab": {
          "base_uri": "https://localhost:8080/"
        },
        "id": "atBzN7hhuk9y",
        "outputId": "47f4a98c-3c20-49d6-97de-7469be55d5d9"
      },
      "execution_count": null,
      "outputs": [
        {
          "output_type": "stream",
          "name": "stdout",
          "text": [
            "Random Array\n",
            " [[44 42 24]\n",
            " [36 12 45]\n",
            " [30 40 30]]\n",
            "Mean 33.666666666666664\n",
            "Transpose\n",
            " [[44 36 30]\n",
            " [42 12 40]\n",
            " [24 45 30]]\n",
            "Sorted along Rows\n",
            " [[24 42 44]\n",
            " [12 36 45]\n",
            " [30 30 40]]\n",
            "Elements greater than 25\n",
            " [44 42 36 45 30 40 30]\n",
            "[[4276 3168 3720]\n",
            " [3168 3465 2910]\n",
            " [3720 2910 3400]]\n"
          ]
        }
      ]
    },
    {
      "cell_type": "markdown",
      "source": [
        "## Task: NumPy Task: Analyzing a 2D Array\n",
        "\n",
        "- Create a 2D NumPy array of shape (4, 5) with random integers between 10 and 60.\n",
        "- Perform the following operations:\n",
        "  - Extract the first two rows.\n",
        "  - Extract all elements in the last column.\n",
        "  - Replace all elements greater than 30 with 0.\n",
        "  - Calculate the sum of all elements in the array after replacement.\n",
        "  - Find the mean of each row.\n",
        "  - Add another row\n",
        "- Print the result after each step"
      ],
      "metadata": {
        "id": "qj6vaaO-X2aY"
      }
    }
  ]
}